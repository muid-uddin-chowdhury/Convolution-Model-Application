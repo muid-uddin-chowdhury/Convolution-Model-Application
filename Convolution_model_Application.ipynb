{
 "cells": [
  {
   "cell_type": "markdown",
   "metadata": {},
   "source": [
    "# Convolutional Neural Networks: Application\n",
    "\n",
    "Welcome to Course 4's second assignment! In this notebook, you will:\n",
    "\n",
    "- Create a mood classifer using the TF Keras Sequential API\n",
    "- Build a ConvNet to identify sign language digits using the TF Keras Functional API\n",
    "\n",
    "**After this assignment you will be able to:**\n",
    "\n",
    "- Build and train a ConvNet in TensorFlow for a __binary__ classification problem\n",
    "- Build and train a ConvNet in TensorFlow for a __multiclass__ classification problem\n",
    "- Explain different use cases for the Sequential and Functional APIs\n",
    "\n",
    "To complete this assignment, you should already be familiar with TensorFlow. If you are not, please refer back to the **TensorFlow Tutorial** of the third week of Course 2 (\"**Improving deep neural networks**\").\n",
    "\n",
    "## Important Note on Submission to the AutoGrader\n",
    "\n",
    "Before submitting your assignment to the AutoGrader, please make sure you are not doing the following:\n",
    "\n",
    "1. You have not added any _extra_ `print` statement(s) in the assignment.\n",
    "2. You have not added any _extra_ code cell(s) in the assignment.\n",
    "3. You have not changed any of the function parameters.\n",
    "4. You are not using any global variables inside your graded exercises. Unless specifically instructed to do so, please refrain from it and use the local variables instead.\n",
    "5. You are not changing the assignment code where it is not required, like creating _extra_ variables.\n",
    "\n",
    "If you do any of the following, you will get something like, `Grader Error: Grader feedback not found` (or similarly unexpected) error upon submitting your assignment. Before asking for help/debugging the errors in your assignment, check for these first. If this is the case, and you don't remember the changes you have made, you can get a fresh copy of the assignment by following these [instructions](https://www.coursera.org/learn/convolutional-neural-networks/supplement/DS4yP/h-ow-to-refresh-your-workspace)."
   ]
  },
  {
   "cell_type": "markdown",
   "metadata": {},
   "source": [
    "## Table of Contents\n",
    "\n",
    "- [1 - Packages](#1)\n",
    "    - [1.1 - Load the Data and Split the Data into Train/Test Sets](#1-1)\n",
    "- [2 - Layers in TF Keras](#2)\n",
    "- [3 - The Sequential API](#3)\n",
    "    - [3.1 - Create the Sequential Model](#3-1)\n",
    "        - [Exercise 1 - happyModel](#ex-1)\n",
    "    - [3.2 - Train and Evaluate the Model](#3-2)\n",
    "- [4 - The Functional API](#4)\n",
    "    - [4.1 - Load the SIGNS Dataset](#4-1)\n",
    "    - [4.2 - Split the Data into Train/Test Sets](#4-2)\n",
    "    - [4.3 - Forward Propagation](#4-3)\n",
    "        - [Exercise 2 - convolutional_model](#ex-2)\n",
    "    - [4.4 - Train the Model](#4-4)\n",
    "- [5 - History Object](#5)\n",
    "- [6 - Bibliography](#6)"
   ]
  },
  {
   "cell_type": "markdown",
   "metadata": {},
   "source": [
    "<a name='1'></a>\n",
    "## 1 - Packages\n",
    "\n",
    "As usual, begin by loading in the packages."
   ]
  },
  {
   "cell_type": "code",
   "execution_count": 1,
   "metadata": {},
   "outputs": [],
   "source": [
    "import math\n",
    "import numpy as np\n",
    "import h5py\n",
    "import matplotlib.pyplot as plt\n",
    "from matplotlib.pyplot import imread\n",
    "import scipy\n",
    "from PIL import Image\n",
    "import pandas as pd\n",
    "import tensorflow as tf\n",
    "import tensorflow.keras.layers as tfl\n",
    "from tensorflow.python.framework import ops\n",
    "from cnn_utils import *\n",
    "from test_utils import summary, comparator\n",
    "\n",
    "%matplotlib inline\n",
    "np.random.seed(1)"
   ]
  },
  {
   "cell_type": "markdown",
   "metadata": {},
   "source": [
    "<a name='1-1'></a>\n",
    "### 1.1 - Load the Data and Split the Data into Train/Test Sets\n",
    "\n",
    "You'll be using the Happy House dataset for this part of the assignment, which contains images of peoples' faces. Your task will be to build a ConvNet that determines whether the people in the images are smiling or not -- because they only get to enter the house if they're smiling!  "
   ]
  },
  {
   "cell_type": "code",
   "execution_count": 2,
   "metadata": {},
   "outputs": [
    {
     "name": "stdout",
     "output_type": "stream",
     "text": [
      "number of training examples = 600\n",
      "number of test examples = 150\n",
      "X_train shape: (600, 64, 64, 3)\n",
      "Y_train shape: (600, 1)\n",
      "X_test shape: (150, 64, 64, 3)\n",
      "Y_test shape: (150, 1)\n"
     ]
    }
   ],
   "source": [
    "X_train_orig, Y_train_orig, X_test_orig, Y_test_orig, classes = load_happy_dataset()\n",
    "\n",
    "# Normalize image vectors\n",
    "X_train = X_train_orig/255.\n",
    "X_test = X_test_orig/255.\n",
    "\n",
    "# Reshape\n",
    "Y_train = Y_train_orig.T\n",
    "Y_test = Y_test_orig.T\n",
    "\n",
    "print (\"number of training examples = \" + str(X_train.shape[0]))\n",
    "print (\"number of test examples = \" + str(X_test.shape[0]))\n",
    "print (\"X_train shape: \" + str(X_train.shape))\n",
    "print (\"Y_train shape: \" + str(Y_train.shape))\n",
    "print (\"X_test shape: \" + str(X_test.shape))\n",
    "print (\"Y_test shape: \" + str(Y_test.shape))"
   ]
  },
  {
   "cell_type": "markdown",
   "metadata": {},
   "source": [
    "You can display the images contained in the dataset. Images are **64x64** pixels in RGB format (3 channels)."
   ]
  },
  {
   "cell_type": "code",
   "execution_count": 3,
   "metadata": {},
   "outputs": [
    {
     "data": {
      "image/png": "[encoded data removed]",
      "text/plain": [
       "<Figure size 432x288 with 1 Axes>"
      ]
     },
     "metadata": {
      "needs_background": "light"
     },
     "output_type": "display_data"
    }
   ],
   "source": [
    "index = 126\n",
    "plt.imshow(X_train_orig[index]) #display sample training image\n",
    "plt.show()"
   ]
  },
  {
   "cell_type": "markdown",
   "metadata": {},
   "source": [
    "<a name='2'></a>\n",
    "## 2 - Layers in TF Keras \n",
    "\n",
    "In the previous assignment, you created layers manually in numpy. In TF Keras, you don't have to write code directly to create layers. Rather, TF Keras has pre-defined layers you can use. \n",
    "\n",
    "When you create a layer in TF Keras, you are creating a function that takes some input and transforms it into an output you can reuse later. Nice and easy! "
   ]
  },
  {
   "cell_type": "markdown",
   "metadata": {},
   "source": [
    "<a name='3'></a>\n",
    "## 3 - The Sequential API\n",
    "\n",
    "In the previous assignment, you built helper functions using `numpy` to understand the mechanics behind convolutional neural networks. Most practical applications of deep learning today are built using programming frameworks, which have many built-in functions you can simply call. Keras is a high-level abstraction built on top of TensorFlow, which allows for even more simplified and optimized model creation and training. \n",
    "\n",
    "For the first part of this assignment, you'll create a model using TF Keras' Sequential API, which allows you to build layer by layer, and is ideal for building models where each layer has **exactly one** input tensor and **one** output tensor. \n",
    "\n",
    "As you'll see, using the Sequential API is simple and straightforward, but is only appropriate for simpler, more straightforward tasks. Later in this notebook you'll spend some time building with a more flexible, powerful alternative: the Functional API. \n",
    " "
   ]
  },
  {
   "cell_type": "markdown",
   "metadata": {},
   "source": [
    "<a name='3-1'></a>\n",
    "### 3.1 - Create the Sequential Model\n",
    "\n",
    "As mentioned earlier, the TensorFlow Keras Sequential API can be used to build simple models with layer operations that proceed in a sequential order. \n",
    "\n",
    "You can also add layers incrementally to a Sequential model with the `.add()` method, or remove them using the `.pop()` method, much like you would in a regular Python list.\n",
    "\n",
    "Actually, you can think of a Sequential model as behaving like a list of layers. Like Python lists, Sequential layers are ordered, and the order in which they are specified matters.  If your model is non-linear or contains layers with multiple inputs or outputs, a Sequential model wouldn't be the right choice!\n",
    "\n",
    "For any layer construction in Keras, you'll need to specify the input shape in advance. This is because in Keras, the shape of the weights is based on the shape of the inputs. The weights are only created when the model first sees some input data. Sequential models can be created by passing a list of layers to the Sequential constructor, like you will do in the next assignment.\n",
    "\n",
    "<a name='ex-1'></a>\n",
    "### Exercise 1 - happyModel\n",
    "\n",
    "Implement the `happyModel` function below to build the following model: `ZEROPAD2D -> CONV2D -> BATCHNORM -> RELU -> MAXPOOL -> FLATTEN -> DENSE`. Take help from [tf.keras.layers](https://www.tensorflow.org/api_docs/python/tf/keras/layers) \n",
    "\n",
    "Also, plug in the following parameters for all the steps:\n",
    "\n",
    " - [ZeroPadding2D](https://www.tensorflow.org/api_docs/python/tf/keras/layers/ZeroPadding2D): padding 3, input shape 64 x 64 x 3\n",
    " - [Conv2D](https://www.tensorflow.org/api_docs/python/tf/keras/layers/Conv2D): Use 32 7x7 filters, stride 1\n",
    " - [BatchNormalization](https://www.tensorflow.org/api_docs/python/tf/keras/layers/BatchNormalization): for axis 3\n",
    " - [ReLU](https://www.tensorflow.org/api_docs/python/tf/keras/layers/ReLU)\n",
    " - [MaxPool2D](https://www.tensorflow.org/api_docs/python/tf/keras/layers/MaxPool2D): Using default parameters\n",
    " - [Flatten](https://www.tensorflow.org/api_docs/python/tf/keras/layers/Flatten) the previous output.\n",
    " - Fully-connected ([Dense](https://www.tensorflow.org/api_docs/python/tf/keras/layers/Dense)) layer: Apply a fully connected layer with 1 neuron and a sigmoid activation. \n",
    " \n",
    " \n",
    " **Hint:**\n",
    " \n",
    " Use **tfl** as shorthand for **tensorflow.keras.layers**"
   ]
  },
  {
   "cell_type": "code",
   "execution_count": 18,
   "metadata": {
    "deletable": false,
    "nbgrader": {
     "cell_type": "code",
     "checksum": "95d28b191f257bdd5b70c7b8952559d5",
     "grade": false,
     "grade_id": "cell-0e56d3fc28b69aec",
     "locked": false,
     "schema_version": 3,
     "solution": true,
     "task": false
    }
   },
   "outputs": [],
   "source": [
    "# GRADED FUNCTION: happyModel\n",
    "\n",
    "def happyModel():\n",
    "    \"\"\"\n",
    "    Implements the forward propagation for the binary classification model:\n",
    "    ZEROPAD2D -> CONV2D -> BATCHNORM -> RELU -> MAXPOOL -> FLATTEN -> DENSE\n",
    "    \n",
    "    Note that for simplicity and grading purposes, you'll hard-code all the values\n",
    "    such as the stride and kernel (filter) sizes. \n",
    "    Normally, functions should take these values as function parameters.\n",
    "    \n",
    "    Arguments:\n",
    "    None\n",
    "\n",
    "    Returns:\n",
    "    model -- TF Keras model (object containing the information for the entire training process) \n",
    "    \"\"\"\n",
    "    model = tf.keras.Sequential([\n",
    "            ## ZeroPadding2D with padding 3, input shape of 64 x 64 x 3\n",
    "            tfl.ZeroPadding2D(padding = (3,3), input_shape = (64,64,3)),\n",
    "            ## Conv2D with 32 7x7 filters and stride of 1\n",
    "            tfl.Conv2D(32, (7,7)),\n",
    "            ## BatchNormalization for axis 3\n",
    "            tfl.BatchNormalization(axis = -1),\n",
    "            ## ReLU\n",
    "            tfl.ReLU(),\n",
    "            ## Max Pooling 2D with default parameters\n",
    "            tfl.MaxPool2D(),\n",
    "            ## Flatten layer\n",
    "            tfl.Flatten(),\n",
    "            ## Dense layer with 1 unit for output & 'sigmoid' activation\n",
    "            tfl.Dense(1, activation = 'sigmoid')\n",
    "            # YOUR CODE STARTS HERE\n",
    "            \n",
    "            \n",
    "            # YOUR CODE ENDS HERE\n",
    "        ])\n",
    "    \n",
    "    return model"
   ]
  },
  {
   "cell_type": "code",
   "execution_count": 19,
   "metadata": {
    "deletable": false,
    "editable": false,
    "nbgrader": {
     "cell_type": "code",
     "checksum": "8d3575c950e2e78149be2d05d671c80d",
     "grade": true,
     "grade_id": "cell-e3e1046e5c33d775",
     "locked": true,
     "points": 10,
     "schema_version": 3,
     "solution": false,
     "task": false
    }
   },
   "outputs": [
    {
     "name": "stdout",
     "output_type": "stream",
     "text": [
      "['ZeroPadding2D', (None, 70, 70, 3), 0, ((3, 3), (3, 3))]\n",
      "['Conv2D', (None, 64, 64, 32), 4736, 'valid', 'linear', 'GlorotUniform']\n",
      "['BatchNormalization', (None, 64, 64, 32), 128]\n",
      "['ReLU', (None, 64, 64, 32), 0]\n",
      "['MaxPooling2D', (None, 32, 32, 32), 0, (2, 2), (2, 2), 'valid']\n",
      "['Flatten', (None, 32768), 0]\n",
      "['Dense', (None, 1), 32769, 'sigmoid']\n",
      "\u001b[32mAll tests passed!\u001b[0m\n"
     ]
    }
   ],
   "source": [
    "happy_model = happyModel()\n",
    "# Print a summary for each layer\n",
    "for layer in summary(happy_model):\n",
    "    print(layer)\n",
    "    \n",
    "output = [['ZeroPadding2D', (None, 70, 70, 3), 0, ((3, 3), (3, 3))],\n",
    "            ['Conv2D', (None, 64, 64, 32), 4736, 'valid', 'linear', 'GlorotUniform'],\n",
    "            ['BatchNormalization', (None, 64, 64, 32), 128],\n",
    "            ['ReLU', (None, 64, 64, 32), 0],\n",
    "            ['MaxPooling2D', (None, 32, 32, 32), 0, (2, 2), (2, 2), 'valid'],\n",
    "            ['Flatten', (None, 32768), 0],\n",
    "            ['Dense', (None, 1), 32769, 'sigmoid']]\n",
    "    \n",
    "comparator(summary(happy_model), output)"
   ]
  },
  {
   "cell_type": "markdown",
   "metadata": {},
   "source": [
    "#### Expected Output:\n",
    "\n",
    "```\n",
    "['ZeroPadding2D', (None, 70, 70, 3), 0, ((3, 3), (3, 3))]\n",
    "['Conv2D', (None, 64, 64, 32), 4736, 'valid', 'linear', 'GlorotUniform']\n",
    "['BatchNormalization', (None, 64, 64, 32), 128]\n",
    "['ReLU', (None, 64, 64, 32), 0]\n",
    "['MaxPooling2D', (None, 32, 32, 32), 0, (2, 2), (2, 2), 'valid']\n",
    "['Flatten', (None, 32768), 0]\n",
    "['Dense', (None, 1), 32769, 'sigmoid']\n",
    "All tests passed!\n",
    "```"
   ]
  },
  {
   "cell_type": "markdown",
   "metadata": {},
   "source": [
    "Now that your model is created, you can compile it for training with an optimizer and loss of your choice. When the string `accuracy` is specified as a metric, the type of accuracy used will be automatically converted based on the loss function used. This is one of the many optimizations built into TensorFlow that make your life easier! If you'd like to read more on how the compiler operates, check the docs [here](https://www.tensorflow.org/api_docs/python/tf/keras/Model#compile)."
   ]
  },
  {
   "cell_type": "code",
   "execution_count": 20,
   "metadata": {},
   "outputs": [],
   "source": [
    "happy_model.compile(optimizer='adam',\n",
    "                   loss='binary_crossentropy',\n",
    "                   metrics=['accuracy'])"
   ]
  },
  {
   "cell_type": "markdown",
   "metadata": {},
   "source": [
    "It's time to check your model's parameters with the `.summary()` method. This will display the types of layers you have, the shape of the outputs, and how many parameters are in each layer. "
   ]
  },
  {
   "cell_type": "code",
   "execution_count": 21,
   "metadata": {},
   "outputs": [
    {
     "name": "stdout",
     "output_type": "stream",
     "text": [
      "Model: \"sequential\"\n",
      "_________________________________________________________________\n",
      "Layer (type)                 Output Shape              Param #   \n",
      "=================================================================\n",
      "zero_padding2d_2 (ZeroPaddin (None, 70, 70, 3)         0         \n",
      "_________________________________________________________________\n",
      "conv2d_2 (Conv2D)            (None, 64, 64, 32)        4736      \n",
      "_________________________________________________________________\n",
      "batch_normalization_2 (Batch (None, 64, 64, 32)        128       \n",
      "_________________________________________________________________\n",
      "re_lu (ReLU)                 (None, 64, 64, 32)        0         \n",
      "_________________________________________________________________\n",
      "max_pooling2d (MaxPooling2D) (None, 32, 32, 32)        0         \n",
      "_________________________________________________________________\n",
      "flatten (Flatten)            (None, 32768)             0         \n",
      "_________________________________________________________________\n",
      "dense (Dense)                (None, 1)                 32769     \n",
      "=================================================================\n",
      "Total params: 37,633\n",
      "Trainable params: 37,569\n",
      "Non-trainable params: 64\n",
      "_________________________________________________________________\n"
     ]
    }
   ],
   "source": [
    "happy_model.summary()"
   ]
  },
  {
   "cell_type": "markdown",
   "metadata": {},
   "source": [
    "<a name='3-2'></a>\n",
    "### 3.2 - Train and Evaluate the Model\n",
    "\n",
    "After creating the model, compiling it with your choice of optimizer and loss function, and doing a sanity check on its contents, you are now ready to build! \n",
    "\n",
    "Simply call `.fit()` to train. That's it! No need for mini-batching, saving, or complex backpropagation computations. That's all been done for you, as you're using a TensorFlow dataset with the batches specified already. You do have the option to specify epoch number or minibatch size if you like (for example, in the case of an un-batched dataset)."
   ]
  },
  {
   "cell_type": "code",
   "execution_count": 22,
   "metadata": {},
   "outputs": [
    {
     "name": "stdout",
     "output_type": "stream",
     "text": [
      "Epoch 1/10\n",
      "38/38 [==============================] - 4s 103ms/step - loss: 1.6338 - accuracy: 0.6583\n",
      "Epoch 2/10\n",
      "38/38 [==============================] - 4s 95ms/step - loss: 0.2167 - accuracy: 0.9033\n",
      "Epoch 3/10\n",
      "38/38 [==============================] - 4s 98ms/step - loss: 0.1949 - accuracy: 0.9117\n",
      "Epoch 4/10\n",
      "38/38 [==============================] - 4s 100ms/step - loss: 0.1786 - accuracy: 0.9333\n",
      "Epoch 5/10\n",
      "38/38 [==============================] - 4s 97ms/step - loss: 0.2258 - accuracy: 0.9200\n",
      "Epoch 6/10\n",
      "38/38 [==============================] - 4s 95ms/step - loss: 0.1072 - accuracy: 0.9617\n",
      "Epoch 7/10\n",
      "38/38 [==============================] - 4s 98ms/step - loss: 0.1119 - accuracy: 0.9617\n",
      "Epoch 8/10\n",
      "38/38 [==============================] - 4s 97ms/step - loss: 0.0840 - accuracy: 0.9767\n",
      "Epoch 9/10\n",
      "38/38 [==============================] - 4s 98ms/step - loss: 0.0594 - accuracy: 0.9800\n",
      "Epoch 10/10\n",
      "38/38 [==============================] - 4s 98ms/step - loss: 0.0773 - accuracy: 0.9800\n"
     ]
    },
    {
     "data": {
      "text/plain": [
       "<tensorflow.python.keras.callbacks.History at 0x7fe2081d4990>"
      ]
     },
     "execution_count": 22,
     "metadata": {},
     "output_type": "execute_result"
    }
   ],
   "source": [
    "happy_model.fit(X_train, Y_train, epochs=10, batch_size=16)"
   ]
  },
  {
   "cell_type": "markdown",
   "metadata": {},
   "source": [
    "After that completes, just use `.evaluate()` to evaluate against your test set. This function will print the value of the loss function and the performance metrics specified during the compilation of the model. In this case, the `binary_crossentropy` and the `accuracy` respectively."
   ]
  },
  {
   "cell_type": "code",
   "execution_count": 23,
   "metadata": {},
   "outputs": [
    {
     "name": "stdout",
     "output_type": "stream",
     "text": [
      "5/5 [==============================] - 0s 23ms/step - loss: 0.1507 - accuracy: 0.9267\n"
     ]
    },
    {
     "data": {
      "text/plain": [
       "[0.15070079267024994, 0.9266666769981384]"
      ]
     },
     "execution_count": 23,
     "metadata": {},
     "output_type": "execute_result"
    }
   ],
   "source": [
    "happy_model.evaluate(X_test, Y_test)"
   ]
  },
  {
   "cell_type": "markdown",
   "metadata": {},
   "source": [
    "Easy, right? But what if you need to build a model with shared layers, branches, or multiple inputs and outputs? This is where Sequential, with its beautifully simple yet limited functionality, won't be able to help you. \n",
    "\n",
    "Next up: Enter the Functional API, your slightly more complex, highly flexible friend.  "
   ]
  },
  {
   "cell_type": "markdown",
   "metadata": {},
   "source": [
    "<a name='4'></a>\n",
    "## 4 - The Functional API"
   ]
  },
  {
   "cell_type": "markdown",
   "metadata": {},
   "source": [
    "Welcome to the second half of the assignment, where you'll use Keras' flexible [Functional API](https://www.tensorflow.org/guide/keras/functional) to build a ConvNet that can differentiate between 6 sign language digits. \n",
    "\n",
    "The Functional API can handle models with non-linear topology, shared layers, as well as layers with multiple inputs or outputs. Imagine that, where the Sequential API requires the model to move in a linear fashion through its layers, the Functional API allows much more flexibility. Where Sequential is a straight line, a Functional model is a graph, where the nodes of the layers can connect in many more ways than one. \n",
    "\n",
    "In the visual example below, the one possible direction of the movement Sequential model is shown in contrast to a skip connection, which is just one of the many ways a Functional model can be constructed. A skip connection, as you might have guessed, skips some layer in the network and feeds the output to a later layer in the network. Don't worry, you'll be spending more time with skip connections very soon! "
   ]
  },
  {
   "cell_type": "markdown",
   "metadata": {},
   "source": [
    "<img src=\"images/seq_vs_func.png\" style=\"width:350px;height:200px;\">"
   ]
  },
  {
   "cell_type": "markdown",
   "metadata": {},
   "source": [
    "<a name='4-1'></a>\n",
    "### 4.1 - Load the SIGNS Dataset\n",
    "\n",
    "As a reminder, the SIGNS dataset is a collection of 6 signs representing numbers from 0 to 5."
   ]
  },
  {
   "cell_type": "code",
   "execution_count": 24,
   "metadata": {},
   "outputs": [],
   "source": [
    "# Loading the data (signs)\n",
    "X_train_orig, Y_train_orig, X_test_orig, Y_test_orig, classes = load_signs_dataset()"
   ]
  },
  {
   "cell_type": "markdown",
   "metadata": {},
   "source": [
    "<img src=\"images/SIGNS.png\" style=\"width:800px;height:300px;\">\n",
    "\n",
    "The next cell will show you an example of a labelled image in the dataset. Feel free to change the value of `index` below and re-run to see different examples. "
   ]
  },
  {
   "cell_type": "code",
   "execution_count": 25,
   "metadata": {},
   "outputs": [
    {
     "name": "stdout",
     "output_type": "stream",
     "text": [
      "y = 4\n"
     ]
    },
    {
     "data": {
      "image/png": "[encoded data removed]",
      "text/plain": [
       "<Figure size 432x288 with 1 Axes>"
      ]
     },
     "metadata": {
      "needs_background": "light"
     },
     "output_type": "display_data"
    }
   ],
   "source": [
    "# Example of an image from the dataset\n",
    "index = 9\n",
    "plt.imshow(X_train_orig[index])\n",
    "print (\"y = \" + str(np.squeeze(Y_train_orig[:, index])))"
   ]
  },
  {
   "cell_type": "markdown",
   "metadata": {},
   "source": [
    "<a name='4-2'></a>\n",
    "### 4.2 - Split the Data into Train/Test Sets\n",
    "\n",
    "In Course 2, you built a fully-connected network for this dataset. But since this is an image dataset, it is more natural to apply a ConvNet to it.\n",
    "\n",
    "To get started, let's examine the shapes of your data. "
   ]
  },
  {
   "cell_type": "code",
   "execution_count": 26,
   "metadata": {},
   "outputs": [
    {
     "name": "stdout",
     "output_type": "stream",
     "text": [
      "number of training examples = 1080\n",
      "number of test examples = 120\n",
      "X_train shape: (1080, 64, 64, 3)\n",
      "Y_train shape: (1080, 6)\n",
      "X_test shape: (120, 64, 64, 3)\n",
      "Y_test shape: (120, 6)\n"
     ]
    }
   ],
   "source": [
    "X_train = X_train_orig/255.\n",
    "X_test = X_test_orig/255.\n",
    "Y_train = convert_to_one_hot(Y_train_orig, 6).T\n",
    "Y_test = convert_to_one_hot(Y_test_orig, 6).T\n",
    "print (\"number of training examples = \" + str(X_train.shape[0]))\n",
    "print (\"number of test examples = \" + str(X_test.shape[0]))\n",
    "print (\"X_train shape: \" + str(X_train.shape))\n",
    "print (\"Y_train shape: \" + str(Y_train.shape))\n",
    "print (\"X_test shape: \" + str(X_test.shape))\n",
    "print (\"Y_test shape: \" + str(Y_test.shape))"
   ]
  },
  {
   "cell_type": "markdown",
   "metadata": {},
   "source": [
    "<a name='4-3'></a>\n",
    "### 4.3 - Forward Propagation\n",
    "\n",
    "In TensorFlow, there are built-in functions that implement the convolution steps for you. By now, you should be familiar with how TensorFlow builds computational graphs. In the [Functional API](https://www.tensorflow.org/guide/keras/functional), you create a graph of layers. This is what allows such great flexibility.\n",
    "\n",
    "However, the following model could also be defined using the Sequential API since the information flow is on a single line. But don't deviate. What we want you to learn is to use the functional API.\n",
    "\n",
    "Begin building your graph of layers by creating an input node that functions as a callable object:\n",
    "\n",
    "- **input_img = tf.keras.Input(shape=input_shape):** \n",
    "\n",
    "Then, create a new node in the graph of layers by calling a layer on the `input_img` object: \n",
    "\n",
    "- **tf.keras.layers.Conv2D(filters= ... , kernel_size= ... , padding='same')(input_img):** Read the full documentation on [Conv2D](https://www.tensorflow.org/api_docs/python/tf/keras/layers/Conv2D).\n",
    "\n",
    "- **tf.keras.layers.MaxPool2D(pool_size=(f, f), strides=(s, s), padding='same'):** `MaxPool2D()` downsamples your input using a window of size (f, f) and strides of size (s, s) to carry out max pooling over each window.  For max pooling, you usually operate on a single example at a time and a single channel at a time. Read the full documentation on [MaxPool2D](https://www.tensorflow.org/api_docs/python/tf/keras/layers/MaxPool2D).\n",
    "\n",
    "- **tf.keras.layers.ReLU():** computes the elementwise ReLU of Z (which can be any shape). You can read the full documentation on [ReLU](https://www.tensorflow.org/api_docs/python/tf/keras/layers/ReLU).\n",
    "\n",
    "- **tf.keras.layers.Flatten()**: given a tensor \"P\", this function takes each training (or test) example in the batch and flattens it into a 1D vector.  \n",
    "\n",
    "    * If a tensor P has the shape (batch_size,h,w,c), it returns a flattened tensor with shape (batch_size, k), where $k=h \\times w \\times c$.  \"k\" equals the product of all the dimension sizes other than the first dimension.\n",
    "    \n",
    "    * For example, given a tensor with dimensions [100, 2, 3, 4], it flattens the tensor to be of shape [100, 24], where 24 = 2 * 3 * 4.  You can read the full documentation on [Flatten](https://www.tensorflow.org/api_docs/python/tf/keras/layers/Flatten).\n",
    "\n",
    "- **tf.keras.layers.Dense(units= ... , activation='softmax')(F):** given the flattened input F, it returns the output computed using a fully connected layer. You can read the full documentation on [Dense](https://www.tensorflow.org/api_docs/python/tf/keras/layers/Dense).\n",
    "\n",
    "In the last function above (`tf.keras.layers.Dense()`), the fully connected layer automatically initializes weights in the graph and keeps on training them as you train the model. Hence, you did not need to initialize those weights when initializing the parameters.\n",
    "\n",
    "Lastly, before creating the model, you'll need to define the output using the last of the function's compositions (in this example, a Dense layer): \n",
    "\n",
    "- **outputs = tf.keras.layers.Dense(units=6, activation='softmax')(F)**\n",
    "\n",
    "\n",
    "#### Window, kernel, filter, pool\n",
    "\n",
    "The words \"kernel\" and \"filter\" are used to refer to the same thing. The word \"filter\" accounts for the amount of \"kernels\" that will be used in a single convolution layer. \"Pool\" is the name of the operation that takes the max or average value of the kernels. \n",
    "\n",
    "This is why the parameter `pool_size` refers to `kernel_size`, and you use `(f,f)` to refer to the filter size. \n",
    "\n",
    "Pool size and kernel size refer to the same thing in different objects - They refer to the shape of the window where the operation takes place. "
   ]
  },
  {
   "cell_type": "markdown",
   "metadata": {},
   "source": [
    "<a name='ex-2'></a>\n",
    "### Exercise 2 - convolutional_model\n",
    "\n",
    "Implement the `convolutional_model` function below to build the following model: `CONV2D -> RELU -> MAXPOOL -> CONV2D -> RELU -> MAXPOOL -> FLATTEN -> DENSE`. Use the functions above! \n",
    "\n",
    "Also, plug in the following parameters for all the steps:\n",
    "\n",
    " - [Conv2D](https://www.tensorflow.org/api_docs/python/tf/keras/layers/Conv2D): Use 8 4 by 4 filters, stride 1, padding is \"SAME\"\n",
    " - [ReLU](https://www.tensorflow.org/api_docs/python/tf/keras/layers/ReLU)\n",
    " - [MaxPool2D](https://www.tensorflow.org/api_docs/python/tf/keras/layers/MaxPool2D): Use an 8 by 8 filter size and an 8 by 8 stride, padding is \"SAME\"\n",
    " - **Conv2D**: Use 16 2 by 2 filters, stride 1, padding is \"SAME\"\n",
    " - **ReLU**\n",
    " - **MaxPool2D**: Use a 4 by 4 filter size and a 4 by 4 stride, padding is \"SAME\"\n",
    " - [Flatten](https://www.tensorflow.org/api_docs/python/tf/keras/layers/Flatten) the previous output.\n",
    " - Fully-connected ([Dense](https://www.tensorflow.org/api_docs/python/tf/keras/layers/Dense)) layer: Apply a fully connected layer with 6 neurons and a softmax activation. "
   ]
  },
  {
   "cell_type": "code",
   "execution_count": 40,
   "metadata": {
    "deletable": false,
    "nbgrader": {
     "cell_type": "code",
     "checksum": "f58643806aa8380c96225fc8b4c5e7aa",
     "grade": false,
     "grade_id": "cell-dac51744a9e03f51",
     "locked": false,
     "schema_version": 3,
     "solution": true,
     "task": false
    }
   },
   "outputs": [],
   "source": [
    "# GRADED FUNCTION: convolutional_model\n",
    "\n",
    "def convolutional_model(input_shape):\n",
    "    \"\"\"\n",
    "    Implements the forward propagation for the model:\n",
    "    CONV2D -> RELU -> MAXPOOL -> CONV2D -> RELU -> MAXPOOL -> FLATTEN -> DENSE\n",
    "    \n",
    "    Note that for simplicity and grading purposes, you'll hard-code some values\n",
    "    such as the stride and kernel (filter) sizes. \n",
    "    Normally, functions should take these values as function parameters.\n",
    "    \n",
    "    Arguments:\n",
    "    input_img -- input dataset, of shape (input_shape)\n",
    "\n",
    "    Returns:\n",
    "    model -- TF Keras model (object containing the information for the entire training process) \n",
    "    \"\"\"\n",
    "\n",
    "    input_img = tf.keras.Input(shape=input_shape)\n",
    "    ## CONV2D: 8 filters 4x4, stride of 1, padding 'SAME'\n",
    "    # Z1 = None\n",
    "    ## RELU\n",
    "    # A1 = None\n",
    "    ## MAXPOOL: window 8x8, stride 8, padding 'SAME'\n",
    "    # P1 = None\n",
    "    ## CONV2D: 16 filters 2x2, stride 1, padding 'SAME'\n",
    "    # Z2 = None\n",
    "    ## RELU\n",
    "    # A2 = None\n",
    "    ## MAXPOOL: window 4x4, stride 4, padding 'SAME'\n",
    "    # P2 = None\n",
    "    ## FLATTEN\n",
    "    # F = None\n",
    "    ## Dense layer\n",
    "    ## 6 neurons in output layer. Hint: one of the arguments should be \"activation='softmax'\" \n",
    "    # outputs = None\n",
    "    # YOUR CODE STARTS HERE\n",
    "    Z1 = tfl.Conv2D(8, 4, activation = 'linear', padding = 'same', strides = 1)(input_img)\n",
    "    A1 = tfl.ReLU()(Z1)\n",
    "    P1 = tfl.MaxPool2D(pool_size = (8,8), strides = (8, 8), padding = 'same')(A1)\n",
    "    Z2 = tfl.Conv2D(16, 2, activation = 'linear', padding = 'same', strides = 1)(P1)\n",
    "    A2 = tfl.ReLU()(Z2)\n",
    "    P2 = tfl.MaxPool2D(pool_size = (4,4), strides = (4,4), padding = 'same')(A2)\n",
    "    F = tfl.Flatten()(P2)\n",
    "    outputs = tfl.Dense(6, activation = \"softmax\")(F)                                  \n",
    "    # YOUR CODE ENDS HERE\n",
    "    model = tf.keras.Model(inputs=input_img, outputs=outputs)\n",
    "    return model"
   ]
  },
  {
   "cell_type": "code",
   "execution_count": 41,
   "metadata": {
    "deletable": false,
    "editable": false,
    "nbgrader": {
     "cell_type": "code",
     "checksum": "483d626949930a0b0ef20997e7c6ba72",
     "grade": true,
     "grade_id": "cell-45d22e92042174c9",
     "locked": true,
     "points": 10,
     "schema_version": 3,
     "solution": false,
     "task": false
    }
   },
   "outputs": [
    {
     "name": "stdout",
     "output_type": "stream",
     "text": [
      "Model: \"functional_1\"\n",
      "_________________________________________________________________\n",
      "Layer (type)                 Output Shape              Param #   \n",
      "=================================================================\n",
      "input_5 (InputLayer)         [(None, 64, 64, 3)]       0         \n",
      "_________________________________________________________________\n",
      "conv2d_7 (Conv2D)            (None, 64, 64, 8)         392       \n",
      "_________________________________________________________________\n",
      "re_lu_4 (ReLU)               (None, 64, 64, 8)         0         \n",
      "_________________________________________________________________\n",
      "max_pooling2d_3 (MaxPooling2 (None, 8, 8, 8)           0         \n",
      "_________________________________________________________________\n",
      "conv2d_8 (Conv2D)            (None, 8, 8, 16)          528       \n",
      "_________________________________________________________________\n",
      "re_lu_5 (ReLU)               (None, 8, 8, 16)          0         \n",
      "_________________________________________________________________\n",
      "max_pooling2d_4 (MaxPooling2 (None, 2, 2, 16)          0         \n",
      "_________________________________________________________________\n",
      "flatten_1 (Flatten)          (None, 64)                0         \n",
      "_________________________________________________________________\n",
      "dense_1 (Dense)              (None, 6)                 390       \n",
      "=================================================================\n",
      "Total params: 1,310\n",
      "Trainable params: 1,310\n",
      "Non-trainable params: 0\n",
      "_________________________________________________________________\n",
      "\u001b[32mAll tests passed!\u001b[0m\n"
     ]
    }
   ],
   "source": [
    "conv_model = convolutional_model((64, 64, 3))\n",
    "conv_model.compile(optimizer='adam',\n",
    "                  loss='categorical_crossentropy',\n",
    "                  metrics=['accuracy'])\n",
    "conv_model.summary()\n",
    "    \n",
    "output = [['InputLayer', [(None, 64, 64, 3)], 0],\n",
    "        ['Conv2D', (None, 64, 64, 8), 392, 'same', 'linear', 'GlorotUniform'],\n",
    "        ['ReLU', (None, 64, 64, 8), 0],\n",
    "        ['MaxPooling2D', (None, 8, 8, 8), 0, (8, 8), (8, 8), 'same'],\n",
    "        ['Conv2D', (None, 8, 8, 16), 528, 'same', 'linear', 'GlorotUniform'],\n",
    "        ['ReLU', (None, 8, 8, 16), 0],\n",
    "        ['MaxPooling2D', (None, 2, 2, 16), 0, (4, 4), (4, 4), 'same'],\n",
    "        ['Flatten', (None, 64), 0],\n",
    "        ['Dense', (None, 6), 390, 'softmax']]\n",
    "    \n",
    "comparator(summary(conv_model), output)"
   ]
  },
  {
   "cell_type": "markdown",
   "metadata": {},
   "source": [
    "Both the Sequential and Functional APIs return a TF Keras model object. The only difference is how inputs are handled inside the object model! "
   ]
  },
  {
   "cell_type": "markdown",
   "metadata": {},
   "source": [
    "<a name='4-4'></a>\n",
    "### 4.4 - Train the Model"
   ]
  },
  {
   "cell_type": "code",
   "execution_count": 42,
   "metadata": {},
   "outputs": [
    {
     "name": "stdout",
     "output_type": "stream",
     "text": [
      "Epoch 1/100\n",
      "17/17 [==============================] - 2s 112ms/step - loss: 1.7983 - accuracy: 0.1676 - val_loss: 1.7891 - val_accuracy: 0.2417\n",
      "Epoch 2/100\n",
      "17/17 [==============================] - 2s 106ms/step - loss: 1.7877 - accuracy: 0.2231 - val_loss: 1.7828 - val_accuracy: 0.2417\n",
      "Epoch 3/100\n",
      "17/17 [==============================] - 2s 111ms/step - loss: 1.7792 - accuracy: 0.2426 - val_loss: 1.7741 - val_accuracy: 0.2667\n",
      "Epoch 4/100\n",
      "17/17 [==============================] - 2s 112ms/step - loss: 1.7721 - accuracy: 0.2444 - val_loss: 1.7631 - val_accuracy: 0.2667\n",
      "Epoch 5/100\n",
      "17/17 [==============================] - 2s 112ms/step - loss: 1.7621 - accuracy: 0.2741 - val_loss: 1.7514 - val_accuracy: 0.3083\n",
      "Epoch 6/100\n",
      "17/17 [==============================] - 2s 113ms/step - loss: 1.7509 - accuracy: 0.3167 - val_loss: 1.7363 - val_accuracy: 0.4000\n",
      "Epoch 7/100\n",
      "17/17 [==============================] - 2s 112ms/step - loss: 1.7376 - accuracy: 0.3352 - val_loss: 1.7193 - val_accuracy: 0.3833\n",
      "Epoch 8/100\n",
      "17/17 [==============================] - 2s 106ms/step - loss: 1.7201 - accuracy: 0.3620 - val_loss: 1.6999 - val_accuracy: 0.4250\n",
      "Epoch 9/100\n",
      "17/17 [==============================] - 2s 111ms/step - loss: 1.7017 - accuracy: 0.3787 - val_loss: 1.6781 - val_accuracy: 0.4083\n",
      "Epoch 10/100\n",
      "17/17 [==============================] - 2s 106ms/step - loss: 1.6802 - accuracy: 0.3806 - val_loss: 1.6537 - val_accuracy: 0.3833\n",
      "Epoch 11/100\n",
      "17/17 [==============================] - 2s 106ms/step - loss: 1.6558 - accuracy: 0.3917 - val_loss: 1.6279 - val_accuracy: 0.4250\n",
      "Epoch 12/100\n",
      "17/17 [==============================] - 2s 106ms/step - loss: 1.6304 - accuracy: 0.4019 - val_loss: 1.5990 - val_accuracy: 0.4000\n",
      "Epoch 13/100\n",
      "17/17 [==============================] - 2s 112ms/step - loss: 1.6053 - accuracy: 0.4019 - val_loss: 1.5685 - val_accuracy: 0.4083\n",
      "Epoch 14/100\n",
      "17/17 [==============================] - 2s 106ms/step - loss: 1.5748 - accuracy: 0.4148 - val_loss: 1.5403 - val_accuracy: 0.4083\n",
      "Epoch 15/100\n",
      "17/17 [==============================] - 2s 107ms/step - loss: 1.5462 - accuracy: 0.4269 - val_loss: 1.5102 - val_accuracy: 0.4167\n",
      "Epoch 16/100\n",
      "17/17 [==============================] - 2s 107ms/step - loss: 1.5165 - accuracy: 0.4333 - val_loss: 1.4786 - val_accuracy: 0.4250\n",
      "Epoch 17/100\n",
      "17/17 [==============================] - 2s 112ms/step - loss: 1.4869 - accuracy: 0.4454 - val_loss: 1.4552 - val_accuracy: 0.4833\n",
      "Epoch 18/100\n",
      "17/17 [==============================] - 2s 111ms/step - loss: 1.4669 - accuracy: 0.4546 - val_loss: 1.4267 - val_accuracy: 0.4583\n",
      "Epoch 19/100\n",
      "17/17 [==============================] - 2s 111ms/step - loss: 1.4428 - accuracy: 0.4630 - val_loss: 1.4015 - val_accuracy: 0.4417\n",
      "Epoch 20/100\n",
      "17/17 [==============================] - 2s 111ms/step - loss: 1.4129 - accuracy: 0.4824 - val_loss: 1.3695 - val_accuracy: 0.5000\n",
      "Epoch 21/100\n",
      "17/17 [==============================] - 2s 112ms/step - loss: 1.3835 - accuracy: 0.4926 - val_loss: 1.3410 - val_accuracy: 0.5167\n",
      "Epoch 22/100\n",
      "17/17 [==============================] - 2s 106ms/step - loss: 1.3603 - accuracy: 0.5056 - val_loss: 1.3161 - val_accuracy: 0.4917\n",
      "Epoch 23/100\n",
      "17/17 [==============================] - 2s 106ms/step - loss: 1.3367 - accuracy: 0.5185 - val_loss: 1.2934 - val_accuracy: 0.5250\n",
      "Epoch 24/100\n",
      "17/17 [==============================] - 2s 107ms/step - loss: 1.3151 - accuracy: 0.5269 - val_loss: 1.2713 - val_accuracy: 0.5250\n",
      "Epoch 25/100\n",
      "17/17 [==============================] - 2s 107ms/step - loss: 1.2927 - accuracy: 0.5370 - val_loss: 1.2530 - val_accuracy: 0.5583\n",
      "Epoch 26/100\n",
      "17/17 [==============================] - 2s 107ms/step - loss: 1.2739 - accuracy: 0.5463 - val_loss: 1.2317 - val_accuracy: 0.5583\n",
      "Epoch 27/100\n",
      "17/17 [==============================] - 2s 106ms/step - loss: 1.2558 - accuracy: 0.5630 - val_loss: 1.2123 - val_accuracy: 0.5667\n",
      "Epoch 28/100\n",
      "17/17 [==============================] - 2s 107ms/step - loss: 1.2365 - accuracy: 0.5694 - val_loss: 1.1968 - val_accuracy: 0.5667\n",
      "Epoch 29/100\n",
      "17/17 [==============================] - 2s 107ms/step - loss: 1.2212 - accuracy: 0.5731 - val_loss: 1.1792 - val_accuracy: 0.5750\n",
      "Epoch 30/100\n",
      "17/17 [==============================] - 2s 107ms/step - loss: 1.2041 - accuracy: 0.5833 - val_loss: 1.1620 - val_accuracy: 0.5833\n",
      "Epoch 31/100\n",
      "17/17 [==============================] - 2s 107ms/step - loss: 1.1886 - accuracy: 0.5935 - val_loss: 1.1482 - val_accuracy: 0.5750\n",
      "Epoch 32/100\n",
      "17/17 [==============================] - 2s 112ms/step - loss: 1.1743 - accuracy: 0.5972 - val_loss: 1.1335 - val_accuracy: 0.5667\n",
      "Epoch 33/100\n",
      "17/17 [==============================] - 2s 106ms/step - loss: 1.1580 - accuracy: 0.5991 - val_loss: 1.1225 - val_accuracy: 0.5583\n",
      "Epoch 34/100\n",
      "17/17 [==============================] - 2s 106ms/step - loss: 1.1452 - accuracy: 0.6028 - val_loss: 1.1116 - val_accuracy: 0.5583\n",
      "Epoch 35/100\n",
      "17/17 [==============================] - 2s 107ms/step - loss: 1.1341 - accuracy: 0.6065 - val_loss: 1.0962 - val_accuracy: 0.5750\n",
      "Epoch 36/100\n",
      "17/17 [==============================] - 2s 112ms/step - loss: 1.1200 - accuracy: 0.6102 - val_loss: 1.0871 - val_accuracy: 0.5833\n",
      "Epoch 37/100\n",
      "17/17 [==============================] - 2s 107ms/step - loss: 1.1093 - accuracy: 0.6120 - val_loss: 1.0736 - val_accuracy: 0.5917\n",
      "Epoch 38/100\n",
      "17/17 [==============================] - 2s 107ms/step - loss: 1.0949 - accuracy: 0.6176 - val_loss: 1.0661 - val_accuracy: 0.5833\n",
      "Epoch 39/100\n",
      "17/17 [==============================] - 2s 106ms/step - loss: 1.0839 - accuracy: 0.6213 - val_loss: 1.0569 - val_accuracy: 0.5917\n",
      "Epoch 40/100\n",
      "17/17 [==============================] - 2s 107ms/step - loss: 1.0728 - accuracy: 0.6278 - val_loss: 1.0461 - val_accuracy: 0.6083\n",
      "Epoch 41/100\n",
      "17/17 [==============================] - 2s 106ms/step - loss: 1.0618 - accuracy: 0.6315 - val_loss: 1.0370 - val_accuracy: 0.6083\n",
      "Epoch 42/100\n",
      "17/17 [==============================] - 2s 107ms/step - loss: 1.0514 - accuracy: 0.6352 - val_loss: 1.0302 - val_accuracy: 0.6083\n",
      "Epoch 43/100\n",
      "17/17 [==============================] - 2s 112ms/step - loss: 1.0417 - accuracy: 0.6435 - val_loss: 1.0213 - val_accuracy: 0.6083\n",
      "Epoch 44/100\n",
      "17/17 [==============================] - 2s 111ms/step - loss: 1.0324 - accuracy: 0.6444 - val_loss: 1.0121 - val_accuracy: 0.6167\n",
      "Epoch 45/100\n",
      "17/17 [==============================] - 2s 112ms/step - loss: 1.0230 - accuracy: 0.6481 - val_loss: 1.0058 - val_accuracy: 0.6167\n",
      "Epoch 46/100\n",
      "17/17 [==============================] - 2s 107ms/step - loss: 1.0144 - accuracy: 0.6509 - val_loss: 0.9989 - val_accuracy: 0.6167\n",
      "Epoch 47/100\n",
      "17/17 [==============================] - 2s 112ms/step - loss: 1.0059 - accuracy: 0.6528 - val_loss: 0.9919 - val_accuracy: 0.6167\n",
      "Epoch 48/100\n",
      "17/17 [==============================] - 2s 112ms/step - loss: 0.9978 - accuracy: 0.6528 - val_loss: 0.9845 - val_accuracy: 0.6250\n",
      "Epoch 49/100\n",
      "17/17 [==============================] - 2s 111ms/step - loss: 0.9894 - accuracy: 0.6528 - val_loss: 0.9785 - val_accuracy: 0.6167\n",
      "Epoch 50/100\n",
      "17/17 [==============================] - 2s 111ms/step - loss: 0.9821 - accuracy: 0.6574 - val_loss: 0.9734 - val_accuracy: 0.6167\n",
      "Epoch 51/100\n",
      "17/17 [==============================] - 2s 111ms/step - loss: 0.9748 - accuracy: 0.6611 - val_loss: 0.9665 - val_accuracy: 0.6333\n",
      "Epoch 52/100\n",
      "17/17 [==============================] - 2s 107ms/step - loss: 0.9666 - accuracy: 0.6602 - val_loss: 0.9604 - val_accuracy: 0.6333\n",
      "Epoch 53/100\n",
      "17/17 [==============================] - 2s 107ms/step - loss: 0.9591 - accuracy: 0.6611 - val_loss: 0.9551 - val_accuracy: 0.6417\n",
      "Epoch 54/100\n",
      "17/17 [==============================] - 2s 112ms/step - loss: 0.9513 - accuracy: 0.6611 - val_loss: 0.9493 - val_accuracy: 0.6417\n",
      "Epoch 55/100\n",
      "17/17 [==============================] - 2s 111ms/step - loss: 0.9441 - accuracy: 0.6639 - val_loss: 0.9443 - val_accuracy: 0.6500\n",
      "Epoch 56/100\n",
      "17/17 [==============================] - 2s 111ms/step - loss: 0.9371 - accuracy: 0.6648 - val_loss: 0.9388 - val_accuracy: 0.6500\n",
      "Epoch 57/100\n",
      "17/17 [==============================] - 2s 106ms/step - loss: 0.9302 - accuracy: 0.6667 - val_loss: 0.9338 - val_accuracy: 0.6583\n",
      "Epoch 58/100\n",
      "17/17 [==============================] - 2s 106ms/step - loss: 0.9236 - accuracy: 0.6685 - val_loss: 0.9279 - val_accuracy: 0.6583\n",
      "Epoch 59/100\n",
      "17/17 [==============================] - 2s 106ms/step - loss: 0.9166 - accuracy: 0.6769 - val_loss: 0.9222 - val_accuracy: 0.6667\n",
      "Epoch 60/100\n",
      "17/17 [==============================] - 2s 107ms/step - loss: 0.9096 - accuracy: 0.6778 - val_loss: 0.9168 - val_accuracy: 0.6667\n",
      "Epoch 61/100\n",
      "17/17 [==============================] - 2s 112ms/step - loss: 0.9027 - accuracy: 0.6815 - val_loss: 0.9132 - val_accuracy: 0.6667\n",
      "Epoch 62/100\n",
      "17/17 [==============================] - 2s 112ms/step - loss: 0.8962 - accuracy: 0.6852 - val_loss: 0.9081 - val_accuracy: 0.6667\n",
      "Epoch 63/100\n",
      "17/17 [==============================] - 2s 112ms/step - loss: 0.8897 - accuracy: 0.6889 - val_loss: 0.9035 - val_accuracy: 0.6667\n",
      "Epoch 64/100\n",
      "17/17 [==============================] - 2s 112ms/step - loss: 0.8832 - accuracy: 0.6981 - val_loss: 0.8995 - val_accuracy: 0.6750\n",
      "Epoch 65/100\n",
      "17/17 [==============================] - 2s 111ms/step - loss: 0.8773 - accuracy: 0.7019 - val_loss: 0.8952 - val_accuracy: 0.6667\n",
      "Epoch 66/100\n",
      "17/17 [==============================] - 2s 111ms/step - loss: 0.8716 - accuracy: 0.7028 - val_loss: 0.8918 - val_accuracy: 0.6500\n",
      "Epoch 67/100\n",
      "17/17 [==============================] - 2s 111ms/step - loss: 0.8652 - accuracy: 0.7093 - val_loss: 0.8877 - val_accuracy: 0.6500\n",
      "Epoch 68/100\n",
      "17/17 [==============================] - 2s 111ms/step - loss: 0.8594 - accuracy: 0.7102 - val_loss: 0.8835 - val_accuracy: 0.6583\n",
      "Epoch 69/100\n",
      "17/17 [==============================] - 2s 111ms/step - loss: 0.8538 - accuracy: 0.7148 - val_loss: 0.8786 - val_accuracy: 0.6667\n",
      "Epoch 70/100\n",
      "17/17 [==============================] - 2s 111ms/step - loss: 0.8481 - accuracy: 0.7185 - val_loss: 0.8731 - val_accuracy: 0.6667\n",
      "Epoch 71/100\n",
      "17/17 [==============================] - 2s 111ms/step - loss: 0.8420 - accuracy: 0.7185 - val_loss: 0.8702 - val_accuracy: 0.6583\n",
      "Epoch 72/100\n",
      "17/17 [==============================] - 2s 111ms/step - loss: 0.8362 - accuracy: 0.7241 - val_loss: 0.8648 - val_accuracy: 0.6667\n",
      "Epoch 73/100\n",
      "17/17 [==============================] - 2s 111ms/step - loss: 0.8311 - accuracy: 0.7259 - val_loss: 0.8659 - val_accuracy: 0.6500\n",
      "Epoch 74/100\n",
      "17/17 [==============================] - 2s 107ms/step - loss: 0.8264 - accuracy: 0.7269 - val_loss: 0.8621 - val_accuracy: 0.6500\n",
      "Epoch 75/100\n",
      "17/17 [==============================] - 2s 112ms/step - loss: 0.8210 - accuracy: 0.7315 - val_loss: 0.8596 - val_accuracy: 0.6500\n",
      "Epoch 76/100\n",
      "17/17 [==============================] - 2s 112ms/step - loss: 0.8158 - accuracy: 0.7315 - val_loss: 0.8558 - val_accuracy: 0.6500\n",
      "Epoch 77/100\n",
      "17/17 [==============================] - 2s 111ms/step - loss: 0.8106 - accuracy: 0.7306 - val_loss: 0.8524 - val_accuracy: 0.6500\n",
      "Epoch 78/100\n",
      "17/17 [==============================] - 2s 111ms/step - loss: 0.8059 - accuracy: 0.7324 - val_loss: 0.8494 - val_accuracy: 0.6583\n",
      "Epoch 79/100\n",
      "17/17 [==============================] - 2s 107ms/step - loss: 0.8015 - accuracy: 0.7333 - val_loss: 0.8460 - val_accuracy: 0.6583\n",
      "Epoch 80/100\n",
      "17/17 [==============================] - 2s 112ms/step - loss: 0.7973 - accuracy: 0.7361 - val_loss: 0.8421 - val_accuracy: 0.6667\n",
      "Epoch 81/100\n",
      "17/17 [==============================] - 2s 112ms/step - loss: 0.7926 - accuracy: 0.7370 - val_loss: 0.8370 - val_accuracy: 0.6667\n",
      "Epoch 82/100\n",
      "17/17 [==============================] - 2s 112ms/step - loss: 0.7873 - accuracy: 0.7380 - val_loss: 0.8317 - val_accuracy: 0.6750\n",
      "Epoch 83/100\n",
      "17/17 [==============================] - 2s 106ms/step - loss: 0.7824 - accuracy: 0.7398 - val_loss: 0.8266 - val_accuracy: 0.6750\n",
      "Epoch 84/100\n",
      "17/17 [==============================] - 2s 112ms/step - loss: 0.7764 - accuracy: 0.7435 - val_loss: 0.8213 - val_accuracy: 0.6833\n",
      "Epoch 85/100\n",
      "17/17 [==============================] - 2s 111ms/step - loss: 0.7712 - accuracy: 0.7454 - val_loss: 0.8175 - val_accuracy: 0.6833\n",
      "Epoch 86/100\n",
      "17/17 [==============================] - 2s 111ms/step - loss: 0.7660 - accuracy: 0.7491 - val_loss: 0.8136 - val_accuracy: 0.6833\n",
      "Epoch 87/100\n",
      "17/17 [==============================] - 2s 112ms/step - loss: 0.7612 - accuracy: 0.7500 - val_loss: 0.8095 - val_accuracy: 0.6750\n",
      "Epoch 88/100\n",
      "17/17 [==============================] - 2s 112ms/step - loss: 0.7565 - accuracy: 0.7509 - val_loss: 0.8058 - val_accuracy: 0.6750\n",
      "Epoch 89/100\n",
      "17/17 [==============================] - 2s 111ms/step - loss: 0.7517 - accuracy: 0.7519 - val_loss: 0.8010 - val_accuracy: 0.6833\n",
      "Epoch 90/100\n",
      "17/17 [==============================] - 2s 112ms/step - loss: 0.7470 - accuracy: 0.7528 - val_loss: 0.7976 - val_accuracy: 0.6833\n",
      "Epoch 91/100\n",
      "17/17 [==============================] - 2s 107ms/step - loss: 0.7423 - accuracy: 0.7546 - val_loss: 0.7939 - val_accuracy: 0.6917\n",
      "Epoch 92/100\n",
      "17/17 [==============================] - 2s 112ms/step - loss: 0.7369 - accuracy: 0.7574 - val_loss: 0.7897 - val_accuracy: 0.6917\n",
      "Epoch 93/100\n",
      "17/17 [==============================] - 2s 111ms/step - loss: 0.7318 - accuracy: 0.7602 - val_loss: 0.7866 - val_accuracy: 0.6917\n",
      "Epoch 94/100\n",
      "17/17 [==============================] - 2s 111ms/step - loss: 0.7268 - accuracy: 0.7657 - val_loss: 0.7831 - val_accuracy: 0.6917\n",
      "Epoch 95/100\n",
      "17/17 [==============================] - 2s 117ms/step - loss: 0.7221 - accuracy: 0.7657 - val_loss: 0.7793 - val_accuracy: 0.6917\n",
      "Epoch 96/100\n",
      "17/17 [==============================] - 2s 111ms/step - loss: 0.7173 - accuracy: 0.7667 - val_loss: 0.7758 - val_accuracy: 0.6917\n",
      "Epoch 97/100\n",
      "17/17 [==============================] - 2s 112ms/step - loss: 0.7121 - accuracy: 0.7676 - val_loss: 0.7718 - val_accuracy: 0.6917\n",
      "Epoch 98/100\n",
      "17/17 [==============================] - 2s 113ms/step - loss: 0.7077 - accuracy: 0.7676 - val_loss: 0.7690 - val_accuracy: 0.6917\n",
      "Epoch 99/100\n",
      "17/17 [==============================] - 2s 112ms/step - loss: 0.7031 - accuracy: 0.7713 - val_loss: 0.7659 - val_accuracy: 0.6917\n",
      "Epoch 100/100\n",
      "17/17 [==============================] - 2s 106ms/step - loss: 0.6986 - accuracy: 0.7741 - val_loss: 0.7625 - val_accuracy: 0.6833\n"
     ]
    }
   ],
   "source": [
    "train_dataset = tf.data.Dataset.from_tensor_slices((X_train, Y_train)).batch(64)\n",
    "test_dataset = tf.data.Dataset.from_tensor_slices((X_test, Y_test)).batch(64)\n",
    "history = conv_model.fit(train_dataset, epochs=100, validation_data=test_dataset)"
   ]
  },
  {
   "cell_type": "markdown",
   "metadata": {},
   "source": [
    "<a name='5'></a>\n",
    "## 5 - History Object \n",
    "\n",
    "The history object is an output of the `.fit()` operation, and provides a record of all the loss and metric values in memory. It's stored as a dictionary that you can retrieve at `history.history`: "
   ]
  },
  {
   "cell_type": "code",
   "execution_count": 43,
   "metadata": {},
   "outputs": [
    {
     "data": {
      "text/plain": [
       "{'loss': [1.7983349561691284,\n",
       "  1.7877416610717773,\n",
       "  1.7791930437088013,\n",
       "  1.7720742225646973,\n",
       "  1.7621086835861206,\n",
       "  1.7509467601776123,\n",
       "  1.7375531196594238,\n",
       "  1.7201069593429565,\n",
       "  1.7017428874969482,\n",
       "  1.68020761013031,\n",
       "  1.655817985534668,\n",
       "  1.6304113864898682,\n",
       "  1.6052511930465698,\n",
       "  1.574778437614441,\n",
       "  1.5461546182632446,\n",
       "  1.5165208578109741,\n",
       "  1.4868733882904053,\n",
       "  1.466935634613037,\n",
       "  1.44279146194458,\n",
       "  1.4129341840744019,\n",
       "  1.3835190534591675,\n",
       "  1.360348105430603,\n",
       "  1.336725115776062,\n",
       "  1.3150664567947388,\n",
       "  1.2926719188690186,\n",
       "  1.2738827466964722,\n",
       "  1.2558021545410156,\n",
       "  1.2364821434020996,\n",
       "  1.221203088760376,\n",
       "  1.2040655612945557,\n",
       "  1.1886166334152222,\n",
       "  1.1743348836898804,\n",
       "  1.1579543352127075,\n",
       "  1.1452423334121704,\n",
       "  1.1341421604156494,\n",
       "  1.120049238204956,\n",
       "  1.1093095541000366,\n",
       "  1.094931721687317,\n",
       "  1.0839307308197021,\n",
       "  1.0728161334991455,\n",
       "  1.0618475675582886,\n",
       "  1.0513889789581299,\n",
       "  1.0416831970214844,\n",
       "  1.032370924949646,\n",
       "  1.0229849815368652,\n",
       "  1.0143587589263916,\n",
       "  1.0058759450912476,\n",
       "  0.9977853298187256,\n",
       "  0.9894404411315918,\n",
       "  0.9821131825447083,\n",
       "  0.9747668504714966,\n",
       "  0.9666028022766113,\n",
       "  0.9590622782707214,\n",
       "  0.9512847661972046,\n",
       "  0.944132924079895,\n",
       "  0.9371334314346313,\n",
       "  0.9302008152008057,\n",
       "  0.9235999584197998,\n",
       "  0.9165986180305481,\n",
       "  0.9095511436462402,\n",
       "  0.9027295708656311,\n",
       "  0.8962008953094482,\n",
       "  0.8896539807319641,\n",
       "  0.8832217454910278,\n",
       "  0.8772510290145874,\n",
       "  0.8715597987174988,\n",
       "  0.8651797771453857,\n",
       "  0.8594030141830444,\n",
       "  0.8537968397140503,\n",
       "  0.8481186628341675,\n",
       "  0.8419826626777649,\n",
       "  0.8362181782722473,\n",
       "  0.831069827079773,\n",
       "  0.8264086246490479,\n",
       "  0.8209888339042664,\n",
       "  0.8158472180366516,\n",
       "  0.810587465763092,\n",
       "  0.8059056401252747,\n",
       "  0.8015224933624268,\n",
       "  0.7972903847694397,\n",
       "  0.7925646901130676,\n",
       "  0.7872774600982666,\n",
       "  0.7823952436447144,\n",
       "  0.7764216661453247,\n",
       "  0.771227240562439,\n",
       "  0.7659555673599243,\n",
       "  0.761174201965332,\n",
       "  0.756507933139801,\n",
       "  0.7517262101173401,\n",
       "  0.7470270991325378,\n",
       "  0.7422692775726318,\n",
       "  0.7369140386581421,\n",
       "  0.7317930459976196,\n",
       "  0.7267929911613464,\n",
       "  0.722063422203064,\n",
       "  0.717263400554657,\n",
       "  0.7120911478996277,\n",
       "  0.7077410817146301,\n",
       "  0.7031028866767883,\n",
       "  0.6985791325569153],\n",
       " 'accuracy': [0.1675925999879837,\n",
       "  0.2231481522321701,\n",
       "  0.24259258806705475,\n",
       "  0.24444444477558136,\n",
       "  0.27407407760620117,\n",
       "  0.3166666626930237,\n",
       "  0.3351851999759674,\n",
       "  0.3620370328426361,\n",
       "  0.3787037134170532,\n",
       "  0.38055557012557983,\n",
       "  0.3916666805744171,\n",
       "  0.4018518626689911,\n",
       "  0.4018518626689911,\n",
       "  0.4148148000240326,\n",
       "  0.4268518388271332,\n",
       "  0.4333333373069763,\n",
       "  0.4453703761100769,\n",
       "  0.4546296298503876,\n",
       "  0.46296295523643494,\n",
       "  0.48240742087364197,\n",
       "  0.49259260296821594,\n",
       "  0.5055555701255798,\n",
       "  0.5185185074806213,\n",
       "  0.5268518328666687,\n",
       "  0.5370370149612427,\n",
       "  0.5462962985038757,\n",
       "  0.5629629492759705,\n",
       "  0.5694444179534912,\n",
       "  0.5731481313705444,\n",
       "  0.5833333134651184,\n",
       "  0.5935184955596924,\n",
       "  0.5972222089767456,\n",
       "  0.5990740656852722,\n",
       "  0.6027777791023254,\n",
       "  0.6064814925193787,\n",
       "  0.6101852059364319,\n",
       "  0.6120370626449585,\n",
       "  0.6175925731658936,\n",
       "  0.6212962865829468,\n",
       "  0.6277777552604675,\n",
       "  0.6314814686775208,\n",
       "  0.635185182094574,\n",
       "  0.6435185074806213,\n",
       "  0.644444465637207,\n",
       "  0.6481481194496155,\n",
       "  0.6509259343147278,\n",
       "  0.6527777910232544,\n",
       "  0.6527777910232544,\n",
       "  0.6527777910232544,\n",
       "  0.6574074029922485,\n",
       "  0.6611111164093018,\n",
       "  0.6601851582527161,\n",
       "  0.6611111164093018,\n",
       "  0.6611111164093018,\n",
       "  0.6638888716697693,\n",
       "  0.664814829826355,\n",
       "  0.6666666865348816,\n",
       "  0.6685185432434082,\n",
       "  0.6768518686294556,\n",
       "  0.6777777671813965,\n",
       "  0.6814814805984497,\n",
       "  0.6851851940155029,\n",
       "  0.6888889074325562,\n",
       "  0.6981481313705444,\n",
       "  0.7018518447875977,\n",
       "  0.7027778029441833,\n",
       "  0.7092592716217041,\n",
       "  0.710185170173645,\n",
       "  0.7148148417472839,\n",
       "  0.7185184955596924,\n",
       "  0.7185184955596924,\n",
       "  0.7240740656852722,\n",
       "  0.7259259223937988,\n",
       "  0.7268518805503845,\n",
       "  0.7314814925193787,\n",
       "  0.7314814925193787,\n",
       "  0.730555534362793,\n",
       "  0.7324073910713196,\n",
       "  0.7333333492279053,\n",
       "  0.7361111044883728,\n",
       "  0.7370370626449585,\n",
       "  0.7379629611968994,\n",
       "  0.739814817905426,\n",
       "  0.7435185313224792,\n",
       "  0.7453703880310059,\n",
       "  0.7490741014480591,\n",
       "  0.75,\n",
       "  0.7509258985519409,\n",
       "  0.7518518567085266,\n",
       "  0.7527777552604675,\n",
       "  0.7546296119689941,\n",
       "  0.7574074268341064,\n",
       "  0.760185182094574,\n",
       "  0.7657407522201538,\n",
       "  0.7657407522201538,\n",
       "  0.7666666507720947,\n",
       "  0.7675926089286804,\n",
       "  0.7675926089286804,\n",
       "  0.7712963223457336,\n",
       "  0.7740740776062012],\n",
       " 'val_loss': [1.7891266345977783,\n",
       "  1.7827599048614502,\n",
       "  1.774120807647705,\n",
       "  1.7631319761276245,\n",
       "  1.7514477968215942,\n",
       "  1.736330270767212,\n",
       "  1.719312310218811,\n",
       "  1.69986093044281,\n",
       "  1.6780753135681152,\n",
       "  1.653746247291565,\n",
       "  1.6278902292251587,\n",
       "  1.5989741086959839,\n",
       "  1.5685467720031738,\n",
       "  1.5403465032577515,\n",
       "  1.510195255279541,\n",
       "  1.4786458015441895,\n",
       "  1.4551857709884644,\n",
       "  1.4267232418060303,\n",
       "  1.4015332460403442,\n",
       "  1.3695387840270996,\n",
       "  1.3409827947616577,\n",
       "  1.3160909414291382,\n",
       "  1.2934168577194214,\n",
       "  1.2713443040847778,\n",
       "  1.2529853582382202,\n",
       "  1.2317432165145874,\n",
       "  1.212278962135315,\n",
       "  1.1968191862106323,\n",
       "  1.179155707359314,\n",
       "  1.1620464324951172,\n",
       "  1.1482104063034058,\n",
       "  1.133517861366272,\n",
       "  1.1224677562713623,\n",
       "  1.1116180419921875,\n",
       "  1.0961977243423462,\n",
       "  1.08705735206604,\n",
       "  1.073593258857727,\n",
       "  1.066112756729126,\n",
       "  1.0568945407867432,\n",
       "  1.0460935831069946,\n",
       "  1.0370280742645264,\n",
       "  1.0301570892333984,\n",
       "  1.021284818649292,\n",
       "  1.0120923519134521,\n",
       "  1.005808711051941,\n",
       "  0.9988747239112854,\n",
       "  0.99187171459198,\n",
       "  0.9844733476638794,\n",
       "  0.9785133004188538,\n",
       "  0.9734497666358948,\n",
       "  0.9664657115936279,\n",
       "  0.9603888392448425,\n",
       "  0.9551247358322144,\n",
       "  0.9492810964584351,\n",
       "  0.94428551197052,\n",
       "  0.9387950897216797,\n",
       "  0.9338042140007019,\n",
       "  0.927903413772583,\n",
       "  0.9222407937049866,\n",
       "  0.9167881011962891,\n",
       "  0.9131733775138855,\n",
       "  0.9080701470375061,\n",
       "  0.903545081615448,\n",
       "  0.8994696140289307,\n",
       "  0.8952099084854126,\n",
       "  0.8917531371116638,\n",
       "  0.8877077698707581,\n",
       "  0.8834739923477173,\n",
       "  0.8785791993141174,\n",
       "  0.8730608820915222,\n",
       "  0.8701973557472229,\n",
       "  0.8647830486297607,\n",
       "  0.8658698797225952,\n",
       "  0.8621109127998352,\n",
       "  0.8596490025520325,\n",
       "  0.8557684421539307,\n",
       "  0.8524467349052429,\n",
       "  0.8494489789009094,\n",
       "  0.8459879159927368,\n",
       "  0.8421398997306824,\n",
       "  0.8369808197021484,\n",
       "  0.8316590189933777,\n",
       "  0.8266485929489136,\n",
       "  0.8213434815406799,\n",
       "  0.8174905180931091,\n",
       "  0.8136380314826965,\n",
       "  0.809518039226532,\n",
       "  0.805841863155365,\n",
       "  0.8009895086288452,\n",
       "  0.7976058721542358,\n",
       "  0.7939281463623047,\n",
       "  0.7897257208824158,\n",
       "  0.7865869998931885,\n",
       "  0.7830647826194763,\n",
       "  0.7793333530426025,\n",
       "  0.7758150696754456,\n",
       "  0.7717563509941101,\n",
       "  0.769031822681427,\n",
       "  0.7659345269203186,\n",
       "  0.7624918818473816],\n",
       " 'val_accuracy': [0.24166665971279144,\n",
       "  0.24166665971279144,\n",
       "  0.2666666805744171,\n",
       "  0.2666666805744171,\n",
       "  0.3083333373069763,\n",
       "  0.4000000059604645,\n",
       "  0.38333332538604736,\n",
       "  0.42500001192092896,\n",
       "  0.40833333134651184,\n",
       "  0.38333332538604736,\n",
       "  0.42500001192092896,\n",
       "  0.4000000059604645,\n",
       "  0.40833333134651184,\n",
       "  0.40833333134651184,\n",
       "  0.4166666567325592,\n",
       "  0.42500001192092896,\n",
       "  0.4833333194255829,\n",
       "  0.4583333432674408,\n",
       "  0.4416666626930237,\n",
       "  0.5,\n",
       "  0.5166666507720947,\n",
       "  0.49166667461395264,\n",
       "  0.5249999761581421,\n",
       "  0.5249999761581421,\n",
       "  0.5583333373069763,\n",
       "  0.5583333373069763,\n",
       "  0.5666666626930237,\n",
       "  0.5666666626930237,\n",
       "  0.574999988079071,\n",
       "  0.5833333134651184,\n",
       "  0.574999988079071,\n",
       "  0.5666666626930237,\n",
       "  0.5583333373069763,\n",
       "  0.5583333373069763,\n",
       "  0.574999988079071,\n",
       "  0.5833333134651184,\n",
       "  0.5916666388511658,\n",
       "  0.5833333134651184,\n",
       "  0.5916666388511658,\n",
       "  0.6083333492279053,\n",
       "  0.6083333492279053,\n",
       "  0.6083333492279053,\n",
       "  0.6083333492279053,\n",
       "  0.6166666746139526,\n",
       "  0.6166666746139526,\n",
       "  0.6166666746139526,\n",
       "  0.6166666746139526,\n",
       "  0.625,\n",
       "  0.6166666746139526,\n",
       "  0.6166666746139526,\n",
       "  0.6333333253860474,\n",
       "  0.6333333253860474,\n",
       "  0.6416666507720947,\n",
       "  0.6416666507720947,\n",
       "  0.6499999761581421,\n",
       "  0.6499999761581421,\n",
       "  0.6583333611488342,\n",
       "  0.6583333611488342,\n",
       "  0.6666666865348816,\n",
       "  0.6666666865348816,\n",
       "  0.6666666865348816,\n",
       "  0.6666666865348816,\n",
       "  0.6666666865348816,\n",
       "  0.675000011920929,\n",
       "  0.6666666865348816,\n",
       "  0.6499999761581421,\n",
       "  0.6499999761581421,\n",
       "  0.6583333611488342,\n",
       "  0.6666666865348816,\n",
       "  0.6666666865348816,\n",
       "  0.6583333611488342,\n",
       "  0.6666666865348816,\n",
       "  0.6499999761581421,\n",
       "  0.6499999761581421,\n",
       "  0.6499999761581421,\n",
       "  0.6499999761581421,\n",
       "  0.6499999761581421,\n",
       "  0.6583333611488342,\n",
       "  0.6583333611488342,\n",
       "  0.6666666865348816,\n",
       "  0.6666666865348816,\n",
       "  0.675000011920929,\n",
       "  0.675000011920929,\n",
       "  0.6833333373069763,\n",
       "  0.6833333373069763,\n",
       "  0.6833333373069763,\n",
       "  0.675000011920929,\n",
       "  0.675000011920929,\n",
       "  0.6833333373069763,\n",
       "  0.6833333373069763,\n",
       "  0.6916666626930237,\n",
       "  0.6916666626930237,\n",
       "  0.6916666626930237,\n",
       "  0.6916666626930237,\n",
       "  0.6916666626930237,\n",
       "  0.6916666626930237,\n",
       "  0.6916666626930237,\n",
       "  0.6916666626930237,\n",
       "  0.6916666626930237,\n",
       "  0.6833333373069763]}"
      ]
     },
     "execution_count": 43,
     "metadata": {},
     "output_type": "execute_result"
    }
   ],
   "source": [
    "history.history"
   ]
  },
  {
   "cell_type": "markdown",
   "metadata": {},
   "source": [
    "Now visualize the loss over time using `history.history`: "
   ]
  },
  {
   "cell_type": "code",
   "execution_count": 44,
   "metadata": {},
   "outputs": [
    {
     "data": {
      "text/plain": [
       "[Text(0, 0.5, 'Accuracy'), Text(0.5, 0, 'Epoch')]"
      ]
     },
     "execution_count": 44,
     "metadata": {},
     "output_type": "execute_result"
    },
    {
     "data": {
      "image/png": "[encoded data removed]",
      "text/plain": [
       "<Figure size 864x576 with 1 Axes>"
      ]
     },
     "metadata": {
      "needs_background": "light"
     },
     "output_type": "display_data"
    },
    {
     "data": {
      "image/png": "[encoded data removed]",
      "text/plain": [
       "<Figure size 864x576 with 1 Axes>"
      ]
     },
     "metadata": {
      "needs_background": "light"
     },
     "output_type": "display_data"
    }
   ],
   "source": [
    "# The history.history[\"loss\"] entry is a dictionary with as many values as epochs that the\n",
    "# model was trained on. \n",
    "df_loss_acc = pd.DataFrame(history.history)\n",
    "df_loss= df_loss_acc[['loss','val_loss']]\n",
    "df_loss.rename(columns={'loss':'train','val_loss':'validation'},inplace=True)\n",
    "df_acc= df_loss_acc[['accuracy','val_accuracy']]\n",
    "df_acc.rename(columns={'accuracy':'train','val_accuracy':'validation'},inplace=True)\n",
    "df_loss.plot(title='Model loss',figsize=(12,8)).set(xlabel='Epoch',ylabel='Loss')\n",
    "df_acc.plot(title='Model Accuracy',figsize=(12,8)).set(xlabel='Epoch',ylabel='Accuracy')"
   ]
  },
  {
   "cell_type": "markdown",
   "metadata": {},
   "source": [
    "**Congratulations**! You've finished the assignment and built two models: One that recognizes  smiles, and another that recognizes SIGN language with almost 80% accuracy on the test set. In addition to that, you now also understand the applications of two Keras APIs: Sequential and Functional. Nicely done! \n",
    "\n",
    "By now, you know a bit about how the Functional API works and may have glimpsed the possibilities. In your next assignment, you'll really get a feel for its power when you get the opportunity to build a very deep ConvNet, using ResNets! "
   ]
  },
  {
   "cell_type": "markdown",
   "metadata": {},
   "source": [
    "<a name='6'></a>\n",
    "## 6 - Bibliography\n",
    "\n",
    "You're always encouraged to read the official documentation. To that end, you can find the docs for the Sequential and Functional APIs here: \n",
    "\n",
    "https://www.tensorflow.org/guide/keras/sequential_model\n",
    "\n",
    "https://www.tensorflow.org/guide/keras/functional"
   ]
  }
 ],
 "metadata": {
  "coursera": {
   "course_slug": "convolutional-neural-networks",
   "graded_item_id": "bwbJV",
   "launcher_item_id": "0TkXB"
  },
  "kernelspec": {
   "display_name": "Python 3",
   "language": "python",
   "name": "python3"
  },
  "language_info": {
   "codemirror_mode": {
    "name": "ipython",
    "version": 3
   },
   "file_extension": ".py",
   "mimetype": "text/x-python",
   "name": "python",
   "nbconvert_exporter": "python",
   "pygments_lexer": "ipython3",
   "version": "3.7.6"
  }
 },
 "nbformat": 4,
 "nbformat_minor": 2
}
